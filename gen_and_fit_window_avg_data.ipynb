{
 "cells": [
  {
   "cell_type": "markdown",
   "metadata": {},
   "source": [
    "# Fitting using a windowed average\n",
    "\n",
    "This small notebook carries out the fitting of the windowed average data used in the main notebook. \n",
    "\n",
    "Spectral data from a single subject (_sub0_) is fitted after spectra are averaged in a moving window.  \n",
    "\n",
    "This somewhat simulates analysis approaches used before. Temporal resolution is lost and time point become correlated complicating further analysis. However, SNR is substantially improved over the raw data.\n",
    "\n",
    "## Load data"
   ]
  },
  {
   "cell_type": "code",
   "execution_count": 5,
   "metadata": {},
   "outputs": [
    {
     "name": "stdout",
     "output_type": "stream",
     "text": [
      "(1, 1, 1, 1024, 64)\n"
     ]
    }
   ],
   "source": [
    "import numpy as np\n",
    "\n",
    "from fsl_mrs.utils import mrs_io\n",
    "from fsl_mrs.utils import nifti_mrs_tools as ntools\n",
    "from fsl_mrs.utils.preproc import nifti_mrs_proc as nproc\n",
    "\n",
    "data_stim = mrs_io.read_FID('simulated_data/sub0_stim.nii.gz')\n",
    "data_ctrl = mrs_io.read_FID('simulated_data/sub0_ctrl.nii.gz')\n",
    "\n",
    "print(data_stim.shape)"
   ]
  },
  {
   "cell_type": "markdown",
   "metadata": {},
   "source": [
    "## Perform windowed averaging"
   ]
  },
  {
   "cell_type": "code",
   "execution_count": 22,
   "metadata": {},
   "outputs": [],
   "source": [
    "def calc_window_indices(idx, window_sz, max):\n",
    "    \"\"\"Function to calculate the indicies inside the window\n",
    "    \n",
    "    Implements circular indexing at each end.\n",
    "\n",
    "    :param idx: Current index\n",
    "    :type idx: int\n",
    "    :param window_sz: Number of spectra within window\n",
    "    :type window_sz: int\n",
    "    :param max: Maximum size of data dimension\n",
    "    :type max: int\n",
    "    :return: List of integer indicies\n",
    "    :rtype: list\n",
    "    \"\"\"\n",
    "    indices = np.arange(window_sz) - np.floor(window_sz / 2) + idx\n",
    "    indices[indices >= max] -= max\n",
    "    indices[indices < 0] += max\n",
    "    return indices.astype(int).tolist()\n",
    "\n",
    "def window_avg(data, block_size):\n",
    "    \"\"\"Unweighted averaging of spectra in blocks.\n",
    "\n",
    "    :param data: NIfTI-MRS class object with DIM_DYN dimension to average\n",
    "    :type data: NIFTI_MRS\n",
    "    :param block_size: Size of the windowing block\n",
    "    :type block_size: int\n",
    "    :return: Averaged data\n",
    "    :rtype: NIFTI_MRS\n",
    "    \"\"\"\n",
    "    avg_data = []\n",
    "    for idx in range(data.shape[-1]):\n",
    "        c_ind = calc_window_indices(idx, block_size, data.shape[-1])\n",
    "        _, block = ntools.split(data,'DIM_DYN', c_ind)\n",
    "        avg = nproc.average(block, 'DIM_DYN')\n",
    "        avg_data.append(ntools.reorder(avg, ['DIM_DYN', None, None]))\n",
    "    return ntools.merge(avg_data, 'DIM_DYN')\n",
    "\n",
    "wavg_stim = window_avg(data_stim, 5)\n",
    "wavg_ctrl = window_avg(data_ctrl, 5)\n",
    "\n"
   ]
  },
  {
   "cell_type": "markdown",
   "metadata": {},
   "source": [
    "## Fit data"
   ]
  },
  {
   "cell_type": "code",
   "execution_count": 28,
   "metadata": {},
   "outputs": [],
   "source": [
    "from fsl_mrs.utils.fitting import fit_FSLModel\n",
    "from fsl_mrs.utils.misc import parse_metab_groups\n",
    "import pandas as pd\n",
    "\n",
    "peaks_comb = [['PCh','GPC'],\n",
    "              ['Cr','PCr'],\n",
    "              ['NAA', 'NAAG'],\n",
    "              ['Glu', 'Gln'],\n",
    "              ['Glc', 'Tau']]\n",
    "\n",
    "def fit_spectrum(mrs_obj):\n",
    "    \"\"\"Fit a single spectrum in an MRS object.\n",
    "\n",
    "    Basis must already be loaded\n",
    "\n",
    "    :param mrs_obj: Data to fit\n",
    "    :type mrs_obj: MRS\n",
    "    :return: Results object\n",
    "    :rtype: FitRes\n",
    "    \"\"\"\n",
    "    fit_args = dict(\n",
    "        ppmlim=(0.2, 4.2),\n",
    "        baseline_order=0,\n",
    "        metab_groups=parse_metab_groups(mrs_obj, 'Mac'))\n",
    "    res = fit_FSLModel(mrs_obj, **fit_args)\n",
    "    res.combine(peaks_comb)\n",
    "    return res\n",
    "\n",
    "def fit_nifti_obj(data):\n",
    "    mrs_list = data.mrs(basis_file='basis')\n",
    "    all_res = []\n",
    "    for mrs in mrs_list:\n",
    "        all_res.append(fit_spectrum(mrs).fitResults)\n",
    "\n",
    "    return pd.concat(all_res, ignore_index=True)\n"
   ]
  },
  {
   "cell_type": "markdown",
   "metadata": {},
   "source": [
    "## Save data to csv format"
   ]
  },
  {
   "cell_type": "code",
   "execution_count": 29,
   "metadata": {},
   "outputs": [],
   "source": [
    "from pathlib import Path\n",
    "out_dir = Path('windowed_avg_results')\n",
    "out_dir.mkdir(exist_ok=True)\n",
    "\n",
    "fit_nifti_obj(wavg_stim).to_csv(out_dir / 'sub0_stim_wavg.csv')\n",
    "fit_nifti_obj(data_stim).to_csv(out_dir / 'sub0_stim.csv')\n",
    "fit_nifti_obj(wavg_ctrl).to_csv(out_dir / 'sub0_ctrl_wavg.csv')\n",
    "fit_nifti_obj(data_ctrl).to_csv(out_dir / 'sub0_ctrl.csv')"
   ]
  }
 ],
 "metadata": {
  "kernelspec": {
   "display_name": "fsl_mrs",
   "language": "python",
   "name": "python3"
  },
  "language_info": {
   "codemirror_mode": {
    "name": "ipython",
    "version": 3
   },
   "file_extension": ".py",
   "mimetype": "text/x-python",
   "name": "python",
   "nbconvert_exporter": "python",
   "pygments_lexer": "ipython3",
   "version": "3.8.16"
  },
  "orig_nbformat": 4,
  "vscode": {
   "interpreter": {
    "hash": "4e0e6373d4b1814b6d7fcd230df105f88b52e4628217f74082bdfe8e9fcf4a7e"
   }
  }
 },
 "nbformat": 4,
 "nbformat_minor": 2
}
