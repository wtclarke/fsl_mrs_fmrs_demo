{
 "cells": [
  {
   "cell_type": "markdown",
   "metadata": {},
   "source": [
    "# FSL-MRS fMRS fitting demo"
   ]
  },
  {
   "cell_type": "markdown",
   "metadata": {},
   "source": [
    "## Setting up the problem\n",
    "\n",
    "Data + basis set"
   ]
  },
  {
   "cell_type": "markdown",
   "metadata": {},
   "source": [
    "## Setting up the fitting\n",
    "\n",
    "Design matrix + model"
   ]
  },
  {
   "cell_type": "markdown",
   "metadata": {},
   "source": [
    "## Performing the fit\n",
    "\n",
    "Show code lines\n",
    "\n",
    "See associated notebook (fast) or full fitting script"
   ]
  },
  {
   "cell_type": "markdown",
   "metadata": {},
   "source": [
    "## Results at a single subject level"
   ]
  },
  {
   "cell_type": "markdown",
   "metadata": {},
   "source": [
    "Load data from fit of windowed average"
   ]
  },
  {
   "cell_type": "code",
   "execution_count": 18,
   "metadata": {},
   "outputs": [],
   "source": [
    "import pandas as pd\n",
    "\n",
    "df_indep_stim = pd.read_csv('windowed_avg_results/sub0_stim.csv', index_col=0)\n",
    "df_wavg_stim = pd.read_csv('windowed_avg_results/sub0_stim_wavg.csv', index_col=0)\n",
    "df_dyn_sub0 = pd.read_csv('first_level_results/sub0/stim/free_parameters.csv', index_col=0)"
   ]
  },
  {
   "cell_type": "markdown",
   "metadata": {},
   "source": [
    "Plot"
   ]
  },
  {
   "cell_type": "code",
   "execution_count": 39,
   "metadata": {},
   "outputs": [],
   "source": [
    "design_matrix = pd.read_csv('designmat.csv',header=None).to_numpy()\n",
    "\n",
    "def indiv_traces(metab, percent=True):\n",
    "    p = df_dyn_sub0.filter(regex=metab, axis=0)['mean'].values\n",
    "    val = np.dot(p, design_matrix.T)\n",
    "    if percent:\n",
    "        val = 100 * val/val.mean() - 100\n",
    "    return val"
   ]
  },
  {
   "cell_type": "code",
   "execution_count": 49,
   "metadata": {},
   "outputs": [
    {
     "data": {
      "application/vnd.plotly.v1+json": {
       "config": {
        "plotlyServerURL": "https://plot.ly"
       },
       "data": [
        {
         "legendgroup": "Glu",
         "line": {
          "color": "rgba(31.0, 119.0, 180.0, 1)",
          "width": 1
         },
         "mode": "lines+markers",
         "name": "Glu: independent",
         "type": "scatter",
         "x": [
          0,
          1,
          2,
          3,
          4,
          5,
          6,
          7,
          8,
          9,
          10,
          11,
          12,
          13,
          14,
          15,
          16,
          17,
          18,
          19,
          20,
          21,
          22,
          23,
          24,
          25,
          26,
          27,
          28,
          29,
          30,
          31,
          32,
          33,
          34,
          35,
          36,
          37,
          38,
          39,
          40,
          41,
          42,
          43,
          44,
          45,
          46,
          47,
          48,
          49,
          50,
          51,
          52,
          53,
          54,
          55,
          56,
          57,
          58,
          59,
          60,
          61,
          62,
          63
         ],
         "y": [
          1.5689089908676124,
          -1.0266716831443201,
          -3.153030338752516,
          -4.755032638623735,
          -8.333180955746911,
          -4.653269115433767,
          -2.567728874288777,
          3.55275217846609,
          -5.27416983986011,
          -4.8184738506412135,
          5.814045988199568,
          -0.9019135696081371,
          -3.6675086104940413,
          -2.13350534420762,
          -4.051670331962088,
          -5.246177352309866,
          0.3499146239466677,
          3.492573384999198,
          4.631624771810516,
          3.7379589203829555,
          -1.7586406903089435,
          3.7440138323403316,
          7.3603865738711916,
          0.7015539404072069,
          -5.286838655367909,
          9.821214115343757,
          -2.0239456118144594,
          -2.2635050218510644,
          8.259488939793735,
          0.5040859564887201,
          12.112714497732613,
          2.1756712134390455,
          7.356433238121807,
          1.9439599587424583,
          -7.080071046779257,
          -1.7083185944286483,
          -7.3800856611925365,
          -10.198563565348351,
          -2.8977095022484467,
          -0.5300597688278286,
          -0.8803742064881104,
          -2.0211744365434825,
          8.083682012776139,
          -5.696030034996369,
          -0.7467029120494684,
          -5.843858815643244,
          -0.8063684283605044,
          -7.812023001865742,
          2.8416335290731176,
          -3.714977130223307,
          1.987780108353232,
          6.154247838186744,
          2.9993364108793497,
          6.436434012685299,
          2.1778256756483483,
          -2.2549357082160437,
          4.129899468452858,
          -0.7917418539785559,
          4.909791527236429,
          -2.9347579404483293,
          1.0634958449138976,
          -2.7741963040706863,
          9.131445649739334,
          0.9443381932260575
         ]
        },
        {
         "legendgroup": "Glu",
         "line": {
          "color": "rgba(255.0, 127.0, 14.0, 1)",
          "width": 2
         },
         "mode": "lines",
         "name": "Glu: window avg",
         "type": "scatter",
         "x": [
          0,
          1,
          2,
          3,
          4,
          5,
          6,
          7,
          8,
          9,
          10,
          11,
          12,
          13,
          14,
          15,
          16,
          17,
          18,
          19,
          20,
          21,
          22,
          23,
          24,
          25,
          26,
          27,
          28,
          29,
          30,
          31,
          32,
          33,
          34,
          35,
          36,
          37,
          38,
          39,
          40,
          41,
          42,
          43,
          44,
          45,
          46,
          47,
          48,
          49,
          50,
          51,
          52,
          53,
          54,
          55,
          56,
          57,
          58,
          59,
          60,
          61,
          62,
          63
         ],
         "y": [
          1.5969408383939898,
          -1.2611727746935641,
          -3.1925957324191345,
          -4.416349077062042,
          -4.5920827097304056,
          -2.4252309517445947,
          -2.1749850378017244,
          -1.749785306483842,
          -0.0820843772734059,
          0.43516492165835974,
          -1.0937712675326505,
          -0.7480890095789672,
          -0.5419237391093512,
          -2.954377538591091,
          -2.213493910548414,
          -0.6560053132714461,
          0.66229467008454,
          2.3036403196818656,
          2.5131196930150868,
          3.4810810462877484,
          4.073805273555964,
          3.2196062833959482,
          0.9691317389401544,
          3.139924658226989,
          2.0380375930661776,
          0.7551047784072562,
          2.4660841053818716,
          3.547555827398896,
          4.013343071366382,
          5.47463957005192,
          7.4073860069794994,
          5.831020285670907,
          4.20548300919783,
          1.9420732339102909,
          -0.06903030023733825,
          -4.145418376285459,
          -5.247798119964575,
          -4.3075669109445265,
          -3.5861415890771076,
          -2.4843101439866233,
          1.3139435627695706,
          0.5053221560782806,
          0.3008790566901176,
          -0.26102564109224957,
          -0.08845842945218729,
          -2.959144928699764,
          -1.1415770418611082,
          -2.598603198602867,
          -1.0483372445109773,
          0.42949352321490775,
          3.305354127711402,
          3.669130846153501,
          4.868344897812249,
          3.874549436871977,
          3.3769175199084955,
          1.9977378712686011,
          1.6929195291341292,
          0.5713142190573173,
          1.3009833180712915,
          0.20253841915742754,
          2.225671999585188,
          1.449449712142048,
          2.3431584653703874,
          1.922261741633835
         ]
        },
        {
         "legendgroup": "Glu",
         "line": {
          "color": "rgba(44.0, 160.0, 44.0, 1)",
          "width": 3
         },
         "mode": "lines",
         "name": "Glu: dynamic",
         "type": "scatter",
         "x": [
          0,
          1,
          2,
          3,
          4,
          5,
          6,
          7,
          8,
          9,
          10,
          11,
          12,
          13,
          14,
          15,
          16,
          17,
          18,
          19,
          20,
          21,
          22,
          23,
          24,
          25,
          26,
          27,
          28,
          29,
          30,
          31,
          32,
          33,
          34,
          35,
          36,
          37,
          38,
          39,
          40,
          41,
          42,
          43,
          44,
          45,
          46,
          47,
          48,
          49,
          50,
          51,
          52,
          53,
          54,
          55,
          56,
          57,
          58,
          59,
          60,
          61,
          62,
          63
         ],
         "y": [
          -2.012348398499256,
          -2.0178720868002245,
          -2.0233957751011644,
          -2.0289194634021044,
          -2.0344431517030444,
          -2.0399668400039843,
          -2.0454905283049385,
          -2.0510142166058785,
          -2.056537904906847,
          -2.062061593207787,
          -2.067585281508727,
          -2.073108969809681,
          -2.078632658110621,
          -2.084156346411561,
          -2.089680034712501,
          -2.095203723013441,
          -1.0393504967452003,
          3.465306181256466,
          4.404326764892417,
          3.5713725447072164,
          3.112781399579575,
          2.998379299410118,
          2.976241550050105,
          2.9688726885941037,
          2.9633490002931495,
          2.9578253119921953,
          2.9523016236912554,
          2.946777935390301,
          2.9412542470893612,
          2.9357305587884213,
          2.9302068704874813,
          2.924683182186513,
          1.8577825793163782,
          -2.657921475287182,
          -3.6079894355250417,
          -2.7860825919417067,
          -2.338538823415959,
          -2.2351840998484107,
          -2.2240937270902634,
          -2.227772242236142,
          -2.233295930537082,
          -2.2388196188380363,
          -2.2443433071389762,
          -2.249866995439916,
          -2.2553906837408846,
          -2.2609143720418245,
          -2.2664380603427787,
          -2.2719617486437187,
          -1.5081523330973994,
          1.7555029219998914,
          2.4346268517841168,
          1.8293447830487395,
          1.4954176896726494,
          1.4109740951678305,
          1.3934077978873205,
          1.3865466461734854,
          1.3810229578725455,
          1.375499269571577,
          1.3699755812706371,
          1.3644518929696972,
          1.3589282046687572,
          1.3534045163678172,
          1.347880828066863,
          1.342357139765923
         ]
        }
       ],
       "layout": {
        "template": {
         "data": {
          "bar": [
           {
            "error_x": {
             "color": "#2a3f5f"
            },
            "error_y": {
             "color": "#2a3f5f"
            },
            "marker": {
             "line": {
              "color": "white",
              "width": 0.5
             }
            },
            "type": "bar"
           }
          ],
          "barpolar": [
           {
            "marker": {
             "line": {
              "color": "white",
              "width": 0.5
             }
            },
            "type": "barpolar"
           }
          ],
          "carpet": [
           {
            "aaxis": {
             "endlinecolor": "#2a3f5f",
             "gridcolor": "#C8D4E3",
             "linecolor": "#C8D4E3",
             "minorgridcolor": "#C8D4E3",
             "startlinecolor": "#2a3f5f"
            },
            "baxis": {
             "endlinecolor": "#2a3f5f",
             "gridcolor": "#C8D4E3",
             "linecolor": "#C8D4E3",
             "minorgridcolor": "#C8D4E3",
             "startlinecolor": "#2a3f5f"
            },
            "type": "carpet"
           }
          ],
          "choropleth": [
           {
            "colorbar": {
             "outlinewidth": 0,
             "ticks": ""
            },
            "type": "choropleth"
           }
          ],
          "contour": [
           {
            "colorbar": {
             "outlinewidth": 0,
             "ticks": ""
            },
            "colorscale": [
             [
              0,
              "#0d0887"
             ],
             [
              0.1111111111111111,
              "#46039f"
             ],
             [
              0.2222222222222222,
              "#7201a8"
             ],
             [
              0.3333333333333333,
              "#9c179e"
             ],
             [
              0.4444444444444444,
              "#bd3786"
             ],
             [
              0.5555555555555556,
              "#d8576b"
             ],
             [
              0.6666666666666666,
              "#ed7953"
             ],
             [
              0.7777777777777778,
              "#fb9f3a"
             ],
             [
              0.8888888888888888,
              "#fdca26"
             ],
             [
              1,
              "#f0f921"
             ]
            ],
            "type": "contour"
           }
          ],
          "contourcarpet": [
           {
            "colorbar": {
             "outlinewidth": 0,
             "ticks": ""
            },
            "type": "contourcarpet"
           }
          ],
          "heatmap": [
           {
            "colorbar": {
             "outlinewidth": 0,
             "ticks": ""
            },
            "colorscale": [
             [
              0,
              "#0d0887"
             ],
             [
              0.1111111111111111,
              "#46039f"
             ],
             [
              0.2222222222222222,
              "#7201a8"
             ],
             [
              0.3333333333333333,
              "#9c179e"
             ],
             [
              0.4444444444444444,
              "#bd3786"
             ],
             [
              0.5555555555555556,
              "#d8576b"
             ],
             [
              0.6666666666666666,
              "#ed7953"
             ],
             [
              0.7777777777777778,
              "#fb9f3a"
             ],
             [
              0.8888888888888888,
              "#fdca26"
             ],
             [
              1,
              "#f0f921"
             ]
            ],
            "type": "heatmap"
           }
          ],
          "heatmapgl": [
           {
            "colorbar": {
             "outlinewidth": 0,
             "ticks": ""
            },
            "colorscale": [
             [
              0,
              "#0d0887"
             ],
             [
              0.1111111111111111,
              "#46039f"
             ],
             [
              0.2222222222222222,
              "#7201a8"
             ],
             [
              0.3333333333333333,
              "#9c179e"
             ],
             [
              0.4444444444444444,
              "#bd3786"
             ],
             [
              0.5555555555555556,
              "#d8576b"
             ],
             [
              0.6666666666666666,
              "#ed7953"
             ],
             [
              0.7777777777777778,
              "#fb9f3a"
             ],
             [
              0.8888888888888888,
              "#fdca26"
             ],
             [
              1,
              "#f0f921"
             ]
            ],
            "type": "heatmapgl"
           }
          ],
          "histogram": [
           {
            "marker": {
             "colorbar": {
              "outlinewidth": 0,
              "ticks": ""
             }
            },
            "type": "histogram"
           }
          ],
          "histogram2d": [
           {
            "colorbar": {
             "outlinewidth": 0,
             "ticks": ""
            },
            "colorscale": [
             [
              0,
              "#0d0887"
             ],
             [
              0.1111111111111111,
              "#46039f"
             ],
             [
              0.2222222222222222,
              "#7201a8"
             ],
             [
              0.3333333333333333,
              "#9c179e"
             ],
             [
              0.4444444444444444,
              "#bd3786"
             ],
             [
              0.5555555555555556,
              "#d8576b"
             ],
             [
              0.6666666666666666,
              "#ed7953"
             ],
             [
              0.7777777777777778,
              "#fb9f3a"
             ],
             [
              0.8888888888888888,
              "#fdca26"
             ],
             [
              1,
              "#f0f921"
             ]
            ],
            "type": "histogram2d"
           }
          ],
          "histogram2dcontour": [
           {
            "colorbar": {
             "outlinewidth": 0,
             "ticks": ""
            },
            "colorscale": [
             [
              0,
              "#0d0887"
             ],
             [
              0.1111111111111111,
              "#46039f"
             ],
             [
              0.2222222222222222,
              "#7201a8"
             ],
             [
              0.3333333333333333,
              "#9c179e"
             ],
             [
              0.4444444444444444,
              "#bd3786"
             ],
             [
              0.5555555555555556,
              "#d8576b"
             ],
             [
              0.6666666666666666,
              "#ed7953"
             ],
             [
              0.7777777777777778,
              "#fb9f3a"
             ],
             [
              0.8888888888888888,
              "#fdca26"
             ],
             [
              1,
              "#f0f921"
             ]
            ],
            "type": "histogram2dcontour"
           }
          ],
          "mesh3d": [
           {
            "colorbar": {
             "outlinewidth": 0,
             "ticks": ""
            },
            "type": "mesh3d"
           }
          ],
          "parcoords": [
           {
            "line": {
             "colorbar": {
              "outlinewidth": 0,
              "ticks": ""
             }
            },
            "type": "parcoords"
           }
          ],
          "pie": [
           {
            "automargin": true,
            "type": "pie"
           }
          ],
          "scatter": [
           {
            "marker": {
             "colorbar": {
              "outlinewidth": 0,
              "ticks": ""
             }
            },
            "type": "scatter"
           }
          ],
          "scatter3d": [
           {
            "line": {
             "colorbar": {
              "outlinewidth": 0,
              "ticks": ""
             }
            },
            "marker": {
             "colorbar": {
              "outlinewidth": 0,
              "ticks": ""
             }
            },
            "type": "scatter3d"
           }
          ],
          "scattercarpet": [
           {
            "marker": {
             "colorbar": {
              "outlinewidth": 0,
              "ticks": ""
             }
            },
            "type": "scattercarpet"
           }
          ],
          "scattergeo": [
           {
            "marker": {
             "colorbar": {
              "outlinewidth": 0,
              "ticks": ""
             }
            },
            "type": "scattergeo"
           }
          ],
          "scattergl": [
           {
            "marker": {
             "colorbar": {
              "outlinewidth": 0,
              "ticks": ""
             }
            },
            "type": "scattergl"
           }
          ],
          "scattermapbox": [
           {
            "marker": {
             "colorbar": {
              "outlinewidth": 0,
              "ticks": ""
             }
            },
            "type": "scattermapbox"
           }
          ],
          "scatterpolar": [
           {
            "marker": {
             "colorbar": {
              "outlinewidth": 0,
              "ticks": ""
             }
            },
            "type": "scatterpolar"
           }
          ],
          "scatterpolargl": [
           {
            "marker": {
             "colorbar": {
              "outlinewidth": 0,
              "ticks": ""
             }
            },
            "type": "scatterpolargl"
           }
          ],
          "scatterternary": [
           {
            "marker": {
             "colorbar": {
              "outlinewidth": 0,
              "ticks": ""
             }
            },
            "type": "scatterternary"
           }
          ],
          "surface": [
           {
            "colorbar": {
             "outlinewidth": 0,
             "ticks": ""
            },
            "colorscale": [
             [
              0,
              "#0d0887"
             ],
             [
              0.1111111111111111,
              "#46039f"
             ],
             [
              0.2222222222222222,
              "#7201a8"
             ],
             [
              0.3333333333333333,
              "#9c179e"
             ],
             [
              0.4444444444444444,
              "#bd3786"
             ],
             [
              0.5555555555555556,
              "#d8576b"
             ],
             [
              0.6666666666666666,
              "#ed7953"
             ],
             [
              0.7777777777777778,
              "#fb9f3a"
             ],
             [
              0.8888888888888888,
              "#fdca26"
             ],
             [
              1,
              "#f0f921"
             ]
            ],
            "type": "surface"
           }
          ],
          "table": [
           {
            "cells": {
             "fill": {
              "color": "#EBF0F8"
             },
             "line": {
              "color": "white"
             }
            },
            "header": {
             "fill": {
              "color": "#C8D4E3"
             },
             "line": {
              "color": "white"
             }
            },
            "type": "table"
           }
          ]
         },
         "layout": {
          "annotationdefaults": {
           "arrowcolor": "#2a3f5f",
           "arrowhead": 0,
           "arrowwidth": 1
          },
          "autotypenumbers": "strict",
          "coloraxis": {
           "colorbar": {
            "outlinewidth": 0,
            "ticks": ""
           }
          },
          "colorscale": {
           "diverging": [
            [
             0,
             "#8e0152"
            ],
            [
             0.1,
             "#c51b7d"
            ],
            [
             0.2,
             "#de77ae"
            ],
            [
             0.3,
             "#f1b6da"
            ],
            [
             0.4,
             "#fde0ef"
            ],
            [
             0.5,
             "#f7f7f7"
            ],
            [
             0.6,
             "#e6f5d0"
            ],
            [
             0.7,
             "#b8e186"
            ],
            [
             0.8,
             "#7fbc41"
            ],
            [
             0.9,
             "#4d9221"
            ],
            [
             1,
             "#276419"
            ]
           ],
           "sequential": [
            [
             0,
             "#0d0887"
            ],
            [
             0.1111111111111111,
             "#46039f"
            ],
            [
             0.2222222222222222,
             "#7201a8"
            ],
            [
             0.3333333333333333,
             "#9c179e"
            ],
            [
             0.4444444444444444,
             "#bd3786"
            ],
            [
             0.5555555555555556,
             "#d8576b"
            ],
            [
             0.6666666666666666,
             "#ed7953"
            ],
            [
             0.7777777777777778,
             "#fb9f3a"
            ],
            [
             0.8888888888888888,
             "#fdca26"
            ],
            [
             1,
             "#f0f921"
            ]
           ],
           "sequentialminus": [
            [
             0,
             "#0d0887"
            ],
            [
             0.1111111111111111,
             "#46039f"
            ],
            [
             0.2222222222222222,
             "#7201a8"
            ],
            [
             0.3333333333333333,
             "#9c179e"
            ],
            [
             0.4444444444444444,
             "#bd3786"
            ],
            [
             0.5555555555555556,
             "#d8576b"
            ],
            [
             0.6666666666666666,
             "#ed7953"
            ],
            [
             0.7777777777777778,
             "#fb9f3a"
            ],
            [
             0.8888888888888888,
             "#fdca26"
            ],
            [
             1,
             "#f0f921"
            ]
           ]
          },
          "colorway": [
           "#636efa",
           "#EF553B",
           "#00cc96",
           "#ab63fa",
           "#FFA15A",
           "#19d3f3",
           "#FF6692",
           "#B6E880",
           "#FF97FF",
           "#FECB52"
          ],
          "font": {
           "color": "#2a3f5f"
          },
          "geo": {
           "bgcolor": "white",
           "lakecolor": "white",
           "landcolor": "white",
           "showlakes": true,
           "showland": true,
           "subunitcolor": "#C8D4E3"
          },
          "hoverlabel": {
           "align": "left"
          },
          "hovermode": "closest",
          "mapbox": {
           "style": "light"
          },
          "paper_bgcolor": "white",
          "plot_bgcolor": "white",
          "polar": {
           "angularaxis": {
            "gridcolor": "#EBF0F8",
            "linecolor": "#EBF0F8",
            "ticks": ""
           },
           "bgcolor": "white",
           "radialaxis": {
            "gridcolor": "#EBF0F8",
            "linecolor": "#EBF0F8",
            "ticks": ""
           }
          },
          "scene": {
           "xaxis": {
            "backgroundcolor": "white",
            "gridcolor": "#DFE8F3",
            "gridwidth": 2,
            "linecolor": "#EBF0F8",
            "showbackground": true,
            "ticks": "",
            "zerolinecolor": "#EBF0F8"
           },
           "yaxis": {
            "backgroundcolor": "white",
            "gridcolor": "#DFE8F3",
            "gridwidth": 2,
            "linecolor": "#EBF0F8",
            "showbackground": true,
            "ticks": "",
            "zerolinecolor": "#EBF0F8"
           },
           "zaxis": {
            "backgroundcolor": "white",
            "gridcolor": "#DFE8F3",
            "gridwidth": 2,
            "linecolor": "#EBF0F8",
            "showbackground": true,
            "ticks": "",
            "zerolinecolor": "#EBF0F8"
           }
          },
          "shapedefaults": {
           "line": {
            "color": "#2a3f5f"
           }
          },
          "ternary": {
           "aaxis": {
            "gridcolor": "#DFE8F3",
            "linecolor": "#A2B1C6",
            "ticks": ""
           },
           "baxis": {
            "gridcolor": "#DFE8F3",
            "linecolor": "#A2B1C6",
            "ticks": ""
           },
           "bgcolor": "white",
           "caxis": {
            "gridcolor": "#DFE8F3",
            "linecolor": "#A2B1C6",
            "ticks": ""
           }
          },
          "title": {
           "x": 0.05
          },
          "xaxis": {
           "automargin": true,
           "gridcolor": "#EBF0F8",
           "linecolor": "#EBF0F8",
           "ticks": "",
           "title": {
            "standoff": 15
           },
           "zerolinecolor": "#EBF0F8",
           "zerolinewidth": 2
          },
          "yaxis": {
           "automargin": true,
           "gridcolor": "#EBF0F8",
           "linecolor": "#EBF0F8",
           "ticks": "",
           "title": {
            "standoff": 15
           },
           "zerolinecolor": "#EBF0F8",
           "zerolinewidth": 2
          }
         }
        }
       }
      }
     },
     "metadata": {},
     "output_type": "display_data"
    }
   ],
   "source": [
    "import numpy as np\n",
    "import matplotlib.pyplot as plt\n",
    "import plotly.graph_objects as go\n",
    "\n",
    "met = 'Glu'\n",
    "\n",
    "x_axis = np.arange(64)\n",
    "\n",
    "colors = plt.get_cmap('tab10').colors\n",
    "def color_t2s(tin, alpha=1):\n",
    "    tscaled = [255*t for t in tin]\n",
    "    return f'rgba({tscaled[0]}, {tscaled[1]}, {tscaled[2]}, {alpha})'\n",
    "line_size = dict(idep=1, wavg=2, dyn=3)\n",
    "\n",
    "mean_metab = df_indep_stim[met].mean()\n",
    "def to_percent(x):\n",
    "    return 100 * ((x/mean_metab) - 1)\n",
    "\n",
    "indep_trace = go.Scatter(\n",
    "    x=x_axis, y=to_percent(df_indep_stim[met]),\n",
    "    mode='lines+markers',\n",
    "    name=f'{met}: independent',\n",
    "    legendgroup=met,\n",
    "    line=dict(\n",
    "        color=color_t2s(colors[0]),\n",
    "        width=line_size['idep']),\n",
    "                )\n",
    "\n",
    "wav_trace = go.Scatter(\n",
    "    x=x_axis, y=to_percent(df_wavg_stim[met]),\n",
    "    mode='lines',\n",
    "    name=f'{met}: window avg',\n",
    "    legendgroup=met,\n",
    "    line=dict(\n",
    "        color=color_t2s(colors[1]),\n",
    "        width=line_size['wavg']),\n",
    "                )\n",
    "\n",
    "regex = '_' + met.replace('+', '\\+') + '_'\n",
    "dyn_trace = go.Scatter(\n",
    "    x=x_axis, y=indiv_traces(regex),\n",
    "    mode='lines',\n",
    "    name=f'{met}: dynamic',\n",
    "    legendgroup=met,\n",
    "    line=dict(\n",
    "        color=color_t2s(colors[2]),\n",
    "        width=line_size['dyn']),\n",
    "                )\n",
    "\n",
    "fig = go.Figure()\n",
    "fig.add_trace(indep_trace)\n",
    "fig.add_trace(wav_trace)\n",
    "fig.add_trace(dyn_trace)\n",
    "fig.update_layout(template='plotly_white')"
   ]
  },
  {
   "cell_type": "markdown",
   "metadata": {},
   "source": [
    "## Second Level analysis"
   ]
  }
 ],
 "metadata": {
  "interpreter": {
   "hash": "6c11d37c82810953c5a08a185ec224dab920e965fab2a4fd7bf60d843c04e747"
  },
  "kernelspec": {
   "display_name": "Python 3.8.12 ('fsl_mrs')",
   "language": "python",
   "name": "python3"
  },
  "language_info": {
   "codemirror_mode": {
    "name": "ipython",
    "version": 3
   },
   "file_extension": ".py",
   "mimetype": "text/x-python",
   "name": "python",
   "nbconvert_exporter": "python",
   "pygments_lexer": "ipython3",
   "version": "3.8.12"
  },
  "orig_nbformat": 4
 },
 "nbformat": 4,
 "nbformat_minor": 2
}
