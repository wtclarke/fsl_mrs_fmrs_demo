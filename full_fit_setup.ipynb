{
 "cells": [
  {
   "cell_type": "markdown",
   "metadata": {},
   "source": [
    "# Full fit setup\n",
    "## _Create full fit design matrix and configuration file_\n",
    "\n",
    "This notebook creates a design matrix and python configuration file for the fitting of the full 128-point data.\n",
    "\n",
    "For a guide on how and why these steps are done see _first_level_fit_low_res_demo.ipynb_.\n",
    "\n",
    "For the actual fitting script see _first_level_fit.py_.\n",
    "\n",
    "## 1. Design matrix"
   ]
  },
  {
   "cell_type": "code",
   "execution_count": 7,
   "metadata": {},
   "outputs": [
    {
     "data": {
      "image/png": "[encoded data removed]",
      "text/plain": [
       "<Figure size 576x576 with 1 Axes>"
      ]
     },
     "metadata": {
      "needs_background": "light"
     },
     "output_type": "display_data"
    }
   ],
   "source": [
    "# We use the nilearn package + numpy + pandas to make the design matrix\n",
    "from nilearn.glm.first_level import make_first_level_design_matrix\n",
    "from nilearn.plotting import plot_design_matrix\n",
    "import numpy as np\n",
    "import pandas as pd\n",
    "import matplotlib.pyplot as plt\n",
    "\n",
    "# Calculations to create the design matrix\n",
    "tr          = 4.0  # repetition time in seconds\n",
    "n_blocks    = 2  # Number of stimulation blocks\n",
    "n_scans     = 64  # Total number of scan points (128)\n",
    "frame_times = np.arange(n_scans) * tr  # Time point of each data point\n",
    "conditions  = [f'STIM{i}' for i in range(n_blocks)] # each trial gets its own regressor\n",
    "duration    = [16.*tr,] * n_blocks # Duration of each stimulation block\n",
    "onsets = [tr*15.+tr*32.*k for k in np.arange(0, n_blocks)] # Start time of each stimulation block.\n",
    "events = pd.DataFrame({'trial_type': conditions, \n",
    "                       'onset'     : onsets,\n",
    "                       'duration'  : duration})\n",
    "\n",
    "# Pass to nilearn function to create design matrix\n",
    "design_matrix = make_first_level_design_matrix(\n",
    "    frame_times,\n",
    "    events,\n",
    "    drift_model='polynomial',\n",
    "    drift_order=1, \n",
    "    hrf_model='glover') \n",
    "\n",
    "# Plot the designmatrix for inspection\n",
    "fig = plt.figure(figsize=(8,8))\n",
    "_ = plot_design_matrix(design_matrix, ax=fig.gca())\n",
    "\n",
    "design_matrix.to_csv('designmat.csv', index=False, header=False)\n"
   ]
  },
  {
   "cell_type": "markdown",
   "metadata": {},
   "source": [
    "## 2. Configuration file"
   ]
  },
  {
   "cell_type": "code",
   "execution_count": 13,
   "metadata": {},
   "outputs": [
    {
     "name": "stdout",
     "output_type": "stream",
     "text": [
      "Overwriting fmrs_model.py\n"
     ]
    }
   ],
   "source": [
    "%%writefile fmrs_model.py\n",
    "from numpy import dot\n",
    "\n",
    "# Parameter - functional relationships\n",
    "Parameters = {\n",
    "    'conc'     : {'dynamic': 'model_glm', 'params': [f'beta{i}' for i in range(4)]},\n",
    "    'gamma'    : 'fixed',\n",
    "    'sigma'    : {'dynamic': 'model_glm', 'params': [f'beta{i}' for i in range(4)]},\n",
    "    'eps'      : 'fixed',\n",
    "    'baseline' : 'fixed',\n",
    "    'Phi_0'    : 'fixed',\n",
    "    'Phi_1'    : 'fixed'}\n",
    "\n",
    "# Bounds on free fitted parameters\n",
    "Bounds = {\n",
    "    'gamma': (0, None),\n",
    "    'beta3': (0, None)}\n",
    "\n",
    "\n",
    "# Dynamic models\n",
    "def model_glm(p, t):\n",
    "    return dot(t, p)\n",
    "\n",
    "\n",
    "# Dynamic model gradients\n",
    "def model_glm_grad(p, t):\n",
    "    return t.T\n"
   ]
  }
 ],
 "metadata": {
  "interpreter": {
   "hash": "6c11d37c82810953c5a08a185ec224dab920e965fab2a4fd7bf60d843c04e747"
  },
  "kernelspec": {
   "display_name": "Python 3.8.12 ('fsl_mrs')",
   "language": "python",
   "name": "python3"
  },
  "language_info": {
   "codemirror_mode": {
    "name": "ipython",
    "version": 3
   },
   "file_extension": ".py",
   "mimetype": "text/x-python",
   "name": "python",
   "nbconvert_exporter": "python",
   "pygments_lexer": "ipython3",
   "version": "3.8.12"
  },
  "orig_nbformat": 4
 },
 "nbformat": 4,
 "nbformat_minor": 2
}
